{
 "cells": [
  {
   "cell_type": "markdown",
   "metadata": {},
   "source": [
    "<h1 style=\"color:#2471a3\"><i><b>🌐 Data Collection (Web Scraping)</b></i></h1>\n"
   ]
  },
  {
   "cell_type": "markdown",
   "metadata": {},
   "source": [
    "<h3 style=\"color:#a93226\"><i><b>📦 Import Necessary Libraries</b></i></h3>"
   ]
  },
  {
   "cell_type": "code",
   "execution_count": 1,
   "metadata": {},
   "outputs": [
    {
     "ename": "KeyboardInterrupt",
     "evalue": "",
     "output_type": "error",
     "traceback": [
      "\u001b[1;31m---------------------------------------------------------------------------\u001b[0m",
      "\u001b[1;31mKeyboardInterrupt\u001b[0m                         Traceback (most recent call last)",
      "Cell \u001b[1;32mIn[1], line 2\u001b[0m\n\u001b[0;32m      1\u001b[0m \u001b[38;5;28;01mimport\u001b[39;00m \u001b[38;5;21;01mrequests\u001b[39;00m\n\u001b[1;32m----> 2\u001b[0m \u001b[38;5;28;01mimport\u001b[39;00m \u001b[38;5;21;01mpandas\u001b[39;00m \u001b[38;5;28;01mas\u001b[39;00m \u001b[38;5;21;01mpd\u001b[39;00m\n\u001b[0;32m      3\u001b[0m \u001b[38;5;28;01mfrom\u001b[39;00m \u001b[38;5;21;01mselenium\u001b[39;00m \u001b[38;5;28;01mimport\u001b[39;00m webdriver\n\u001b[0;32m      4\u001b[0m \u001b[38;5;28;01mfrom\u001b[39;00m \u001b[38;5;21;01mselenium\u001b[39;00m\u001b[38;5;21;01m.\u001b[39;00m\u001b[38;5;21;01mwebdriver\u001b[39;00m\u001b[38;5;21;01m.\u001b[39;00m\u001b[38;5;21;01mchrome\u001b[39;00m\u001b[38;5;21;01m.\u001b[39;00m\u001b[38;5;21;01mservice\u001b[39;00m \u001b[38;5;28;01mimport\u001b[39;00m Service\n",
      "File \u001b[1;32mc:\\Users\\91875\\AppData\\Local\\Programs\\Python\\Python312\\Lib\\site-packages\\pandas\\__init__.py:62\u001b[0m\n\u001b[0;32m     59\u001b[0m \u001b[38;5;66;03m# let init-time option registration happen\u001b[39;00m\n\u001b[0;32m     60\u001b[0m \u001b[38;5;28;01mimport\u001b[39;00m \u001b[38;5;21;01mpandas\u001b[39;00m\u001b[38;5;21;01m.\u001b[39;00m\u001b[38;5;21;01mcore\u001b[39;00m\u001b[38;5;21;01m.\u001b[39;00m\u001b[38;5;21;01mconfig_init\u001b[39;00m  \u001b[38;5;66;03m# pyright: ignore[reportUnusedImport] # noqa: F401\u001b[39;00m\n\u001b[1;32m---> 62\u001b[0m \u001b[38;5;28;01mfrom\u001b[39;00m \u001b[38;5;21;01mpandas\u001b[39;00m\u001b[38;5;21;01m.\u001b[39;00m\u001b[38;5;21;01mcore\u001b[39;00m\u001b[38;5;21;01m.\u001b[39;00m\u001b[38;5;21;01mapi\u001b[39;00m \u001b[38;5;28;01mimport\u001b[39;00m (\n\u001b[0;32m     63\u001b[0m     \u001b[38;5;66;03m# dtype\u001b[39;00m\n\u001b[0;32m     64\u001b[0m     ArrowDtype,\n\u001b[0;32m     65\u001b[0m     Int8Dtype,\n\u001b[0;32m     66\u001b[0m     Int16Dtype,\n\u001b[0;32m     67\u001b[0m     Int32Dtype,\n\u001b[0;32m     68\u001b[0m     Int64Dtype,\n\u001b[0;32m     69\u001b[0m     UInt8Dtype,\n\u001b[0;32m     70\u001b[0m     UInt16Dtype,\n\u001b[0;32m     71\u001b[0m     UInt32Dtype,\n\u001b[0;32m     72\u001b[0m     UInt64Dtype,\n\u001b[0;32m     73\u001b[0m     Float32Dtype,\n\u001b[0;32m     74\u001b[0m     Float64Dtype,\n\u001b[0;32m     75\u001b[0m     CategoricalDtype,\n\u001b[0;32m     76\u001b[0m     PeriodDtype,\n\u001b[0;32m     77\u001b[0m     IntervalDtype,\n\u001b[0;32m     78\u001b[0m     DatetimeTZDtype,\n\u001b[0;32m     79\u001b[0m     StringDtype,\n\u001b[0;32m     80\u001b[0m     BooleanDtype,\n\u001b[0;32m     81\u001b[0m     \u001b[38;5;66;03m# missing\u001b[39;00m\n\u001b[0;32m     82\u001b[0m     NA,\n\u001b[0;32m     83\u001b[0m     isna,\n\u001b[0;32m     84\u001b[0m     isnull,\n\u001b[0;32m     85\u001b[0m     notna,\n\u001b[0;32m     86\u001b[0m     notnull,\n\u001b[0;32m     87\u001b[0m     \u001b[38;5;66;03m# indexes\u001b[39;00m\n\u001b[0;32m     88\u001b[0m     Index,\n\u001b[0;32m     89\u001b[0m     CategoricalIndex,\n\u001b[0;32m     90\u001b[0m     RangeIndex,\n\u001b[0;32m     91\u001b[0m     MultiIndex,\n\u001b[0;32m     92\u001b[0m     IntervalIndex,\n\u001b[0;32m     93\u001b[0m     TimedeltaIndex,\n\u001b[0;32m     94\u001b[0m     DatetimeIndex,\n\u001b[0;32m     95\u001b[0m     PeriodIndex,\n\u001b[0;32m     96\u001b[0m     IndexSlice,\n\u001b[0;32m     97\u001b[0m     \u001b[38;5;66;03m# tseries\u001b[39;00m\n\u001b[0;32m     98\u001b[0m     NaT,\n\u001b[0;32m     99\u001b[0m     Period,\n\u001b[0;32m    100\u001b[0m     period_range,\n\u001b[0;32m    101\u001b[0m     Timedelta,\n\u001b[0;32m    102\u001b[0m     timedelta_range,\n\u001b[0;32m    103\u001b[0m     Timestamp,\n\u001b[0;32m    104\u001b[0m     date_range,\n\u001b[0;32m    105\u001b[0m     bdate_range,\n\u001b[0;32m    106\u001b[0m     Interval,\n\u001b[0;32m    107\u001b[0m     interval_range,\n\u001b[0;32m    108\u001b[0m     DateOffset,\n\u001b[0;32m    109\u001b[0m     \u001b[38;5;66;03m# conversion\u001b[39;00m\n\u001b[0;32m    110\u001b[0m     to_numeric,\n\u001b[0;32m    111\u001b[0m     to_datetime,\n\u001b[0;32m    112\u001b[0m     to_timedelta,\n\u001b[0;32m    113\u001b[0m     \u001b[38;5;66;03m# misc\u001b[39;00m\n\u001b[0;32m    114\u001b[0m     Flags,\n\u001b[0;32m    115\u001b[0m     Grouper,\n\u001b[0;32m    116\u001b[0m     factorize,\n\u001b[0;32m    117\u001b[0m     unique,\n\u001b[0;32m    118\u001b[0m     value_counts,\n\u001b[0;32m    119\u001b[0m     NamedAgg,\n\u001b[0;32m    120\u001b[0m     array,\n\u001b[0;32m    121\u001b[0m     Categorical,\n\u001b[0;32m    122\u001b[0m     set_eng_float_format,\n\u001b[0;32m    123\u001b[0m     Series,\n\u001b[0;32m    124\u001b[0m     DataFrame,\n\u001b[0;32m    125\u001b[0m )\n\u001b[0;32m    127\u001b[0m \u001b[38;5;28;01mfrom\u001b[39;00m \u001b[38;5;21;01mpandas\u001b[39;00m\u001b[38;5;21;01m.\u001b[39;00m\u001b[38;5;21;01mcore\u001b[39;00m\u001b[38;5;21;01m.\u001b[39;00m\u001b[38;5;21;01mdtypes\u001b[39;00m\u001b[38;5;21;01m.\u001b[39;00m\u001b[38;5;21;01mdtypes\u001b[39;00m \u001b[38;5;28;01mimport\u001b[39;00m SparseDtype\n\u001b[0;32m    129\u001b[0m \u001b[38;5;28;01mfrom\u001b[39;00m \u001b[38;5;21;01mpandas\u001b[39;00m\u001b[38;5;21;01m.\u001b[39;00m\u001b[38;5;21;01mtseries\u001b[39;00m\u001b[38;5;21;01m.\u001b[39;00m\u001b[38;5;21;01mapi\u001b[39;00m \u001b[38;5;28;01mimport\u001b[39;00m infer_freq\n",
      "File \u001b[1;32mc:\\Users\\91875\\AppData\\Local\\Programs\\Python\\Python312\\Lib\\site-packages\\pandas\\core\\api.py:47\u001b[0m\n\u001b[0;32m     45\u001b[0m \u001b[38;5;28;01mfrom\u001b[39;00m \u001b[38;5;21;01mpandas\u001b[39;00m\u001b[38;5;21;01m.\u001b[39;00m\u001b[38;5;21;01mcore\u001b[39;00m\u001b[38;5;21;01m.\u001b[39;00m\u001b[38;5;21;01mconstruction\u001b[39;00m \u001b[38;5;28;01mimport\u001b[39;00m array\n\u001b[0;32m     46\u001b[0m \u001b[38;5;28;01mfrom\u001b[39;00m \u001b[38;5;21;01mpandas\u001b[39;00m\u001b[38;5;21;01m.\u001b[39;00m\u001b[38;5;21;01mcore\u001b[39;00m\u001b[38;5;21;01m.\u001b[39;00m\u001b[38;5;21;01mflags\u001b[39;00m \u001b[38;5;28;01mimport\u001b[39;00m Flags\n\u001b[1;32m---> 47\u001b[0m \u001b[38;5;28;01mfrom\u001b[39;00m \u001b[38;5;21;01mpandas\u001b[39;00m\u001b[38;5;21;01m.\u001b[39;00m\u001b[38;5;21;01mcore\u001b[39;00m\u001b[38;5;21;01m.\u001b[39;00m\u001b[38;5;21;01mgroupby\u001b[39;00m \u001b[38;5;28;01mimport\u001b[39;00m (\n\u001b[0;32m     48\u001b[0m     Grouper,\n\u001b[0;32m     49\u001b[0m     NamedAgg,\n\u001b[0;32m     50\u001b[0m )\n\u001b[0;32m     51\u001b[0m \u001b[38;5;28;01mfrom\u001b[39;00m \u001b[38;5;21;01mpandas\u001b[39;00m\u001b[38;5;21;01m.\u001b[39;00m\u001b[38;5;21;01mcore\u001b[39;00m\u001b[38;5;21;01m.\u001b[39;00m\u001b[38;5;21;01mindexes\u001b[39;00m\u001b[38;5;21;01m.\u001b[39;00m\u001b[38;5;21;01mapi\u001b[39;00m \u001b[38;5;28;01mimport\u001b[39;00m (\n\u001b[0;32m     52\u001b[0m     CategoricalIndex,\n\u001b[0;32m     53\u001b[0m     DatetimeIndex,\n\u001b[1;32m   (...)\u001b[0m\n\u001b[0;32m     59\u001b[0m     TimedeltaIndex,\n\u001b[0;32m     60\u001b[0m )\n\u001b[0;32m     61\u001b[0m \u001b[38;5;28;01mfrom\u001b[39;00m \u001b[38;5;21;01mpandas\u001b[39;00m\u001b[38;5;21;01m.\u001b[39;00m\u001b[38;5;21;01mcore\u001b[39;00m\u001b[38;5;21;01m.\u001b[39;00m\u001b[38;5;21;01mindexes\u001b[39;00m\u001b[38;5;21;01m.\u001b[39;00m\u001b[38;5;21;01mdatetimes\u001b[39;00m \u001b[38;5;28;01mimport\u001b[39;00m (\n\u001b[0;32m     62\u001b[0m     bdate_range,\n\u001b[0;32m     63\u001b[0m     date_range,\n\u001b[0;32m     64\u001b[0m )\n",
      "File \u001b[1;32mc:\\Users\\91875\\AppData\\Local\\Programs\\Python\\Python312\\Lib\\site-packages\\pandas\\core\\groupby\\__init__.py:1\u001b[0m\n\u001b[1;32m----> 1\u001b[0m \u001b[38;5;28;01mfrom\u001b[39;00m \u001b[38;5;21;01mpandas\u001b[39;00m\u001b[38;5;21;01m.\u001b[39;00m\u001b[38;5;21;01mcore\u001b[39;00m\u001b[38;5;21;01m.\u001b[39;00m\u001b[38;5;21;01mgroupby\u001b[39;00m\u001b[38;5;21;01m.\u001b[39;00m\u001b[38;5;21;01mgeneric\u001b[39;00m \u001b[38;5;28;01mimport\u001b[39;00m (\n\u001b[0;32m      2\u001b[0m     DataFrameGroupBy,\n\u001b[0;32m      3\u001b[0m     NamedAgg,\n\u001b[0;32m      4\u001b[0m     SeriesGroupBy,\n\u001b[0;32m      5\u001b[0m )\n\u001b[0;32m      6\u001b[0m \u001b[38;5;28;01mfrom\u001b[39;00m \u001b[38;5;21;01mpandas\u001b[39;00m\u001b[38;5;21;01m.\u001b[39;00m\u001b[38;5;21;01mcore\u001b[39;00m\u001b[38;5;21;01m.\u001b[39;00m\u001b[38;5;21;01mgroupby\u001b[39;00m\u001b[38;5;21;01m.\u001b[39;00m\u001b[38;5;21;01mgroupby\u001b[39;00m \u001b[38;5;28;01mimport\u001b[39;00m GroupBy\n\u001b[0;32m      7\u001b[0m \u001b[38;5;28;01mfrom\u001b[39;00m \u001b[38;5;21;01mpandas\u001b[39;00m\u001b[38;5;21;01m.\u001b[39;00m\u001b[38;5;21;01mcore\u001b[39;00m\u001b[38;5;21;01m.\u001b[39;00m\u001b[38;5;21;01mgroupby\u001b[39;00m\u001b[38;5;21;01m.\u001b[39;00m\u001b[38;5;21;01mgrouper\u001b[39;00m \u001b[38;5;28;01mimport\u001b[39;00m Grouper\n",
      "File \u001b[1;32mc:\\Users\\91875\\AppData\\Local\\Programs\\Python\\Python312\\Lib\\site-packages\\pandas\\core\\groupby\\generic.py:68\u001b[0m\n\u001b[0;32m     60\u001b[0m \u001b[38;5;28;01mfrom\u001b[39;00m \u001b[38;5;21;01mpandas\u001b[39;00m\u001b[38;5;21;01m.\u001b[39;00m\u001b[38;5;21;01mcore\u001b[39;00m\u001b[38;5;21;01m.\u001b[39;00m\u001b[38;5;21;01mapply\u001b[39;00m \u001b[38;5;28;01mimport\u001b[39;00m (\n\u001b[0;32m     61\u001b[0m     GroupByApply,\n\u001b[0;32m     62\u001b[0m     maybe_mangle_lambdas,\n\u001b[1;32m   (...)\u001b[0m\n\u001b[0;32m     65\u001b[0m     warn_alias_replacement,\n\u001b[0;32m     66\u001b[0m )\n\u001b[0;32m     67\u001b[0m \u001b[38;5;28;01mimport\u001b[39;00m \u001b[38;5;21;01mpandas\u001b[39;00m\u001b[38;5;21;01m.\u001b[39;00m\u001b[38;5;21;01mcore\u001b[39;00m\u001b[38;5;21;01m.\u001b[39;00m\u001b[38;5;21;01mcommon\u001b[39;00m \u001b[38;5;28;01mas\u001b[39;00m \u001b[38;5;21;01mcom\u001b[39;00m\n\u001b[1;32m---> 68\u001b[0m \u001b[38;5;28;01mfrom\u001b[39;00m \u001b[38;5;21;01mpandas\u001b[39;00m\u001b[38;5;21;01m.\u001b[39;00m\u001b[38;5;21;01mcore\u001b[39;00m\u001b[38;5;21;01m.\u001b[39;00m\u001b[38;5;21;01mframe\u001b[39;00m \u001b[38;5;28;01mimport\u001b[39;00m DataFrame\n\u001b[0;32m     69\u001b[0m \u001b[38;5;28;01mfrom\u001b[39;00m \u001b[38;5;21;01mpandas\u001b[39;00m\u001b[38;5;21;01m.\u001b[39;00m\u001b[38;5;21;01mcore\u001b[39;00m\u001b[38;5;21;01m.\u001b[39;00m\u001b[38;5;21;01mgroupby\u001b[39;00m \u001b[38;5;28;01mimport\u001b[39;00m (\n\u001b[0;32m     70\u001b[0m     base,\n\u001b[0;32m     71\u001b[0m     ops,\n\u001b[0;32m     72\u001b[0m )\n\u001b[0;32m     73\u001b[0m \u001b[38;5;28;01mfrom\u001b[39;00m \u001b[38;5;21;01mpandas\u001b[39;00m\u001b[38;5;21;01m.\u001b[39;00m\u001b[38;5;21;01mcore\u001b[39;00m\u001b[38;5;21;01m.\u001b[39;00m\u001b[38;5;21;01mgroupby\u001b[39;00m\u001b[38;5;21;01m.\u001b[39;00m\u001b[38;5;21;01mgroupby\u001b[39;00m \u001b[38;5;28;01mimport\u001b[39;00m (\n\u001b[0;32m     74\u001b[0m     GroupBy,\n\u001b[0;32m     75\u001b[0m     GroupByPlot,\n\u001b[1;32m   (...)\u001b[0m\n\u001b[0;32m     79\u001b[0m     _transform_template,\n\u001b[0;32m     80\u001b[0m )\n",
      "File \u001b[1;32mc:\\Users\\91875\\AppData\\Local\\Programs\\Python\\Python312\\Lib\\site-packages\\pandas\\core\\frame.py:149\u001b[0m\n\u001b[0;32m    143\u001b[0m \u001b[38;5;28;01mfrom\u001b[39;00m \u001b[38;5;21;01mpandas\u001b[39;00m\u001b[38;5;21;01m.\u001b[39;00m\u001b[38;5;21;01mcore\u001b[39;00m\u001b[38;5;21;01m.\u001b[39;00m\u001b[38;5;21;01marrays\u001b[39;00m\u001b[38;5;21;01m.\u001b[39;00m\u001b[38;5;21;01msparse\u001b[39;00m \u001b[38;5;28;01mimport\u001b[39;00m SparseFrameAccessor\n\u001b[0;32m    144\u001b[0m \u001b[38;5;28;01mfrom\u001b[39;00m \u001b[38;5;21;01mpandas\u001b[39;00m\u001b[38;5;21;01m.\u001b[39;00m\u001b[38;5;21;01mcore\u001b[39;00m\u001b[38;5;21;01m.\u001b[39;00m\u001b[38;5;21;01mconstruction\u001b[39;00m \u001b[38;5;28;01mimport\u001b[39;00m (\n\u001b[0;32m    145\u001b[0m     ensure_wrapped_if_datetimelike,\n\u001b[0;32m    146\u001b[0m     sanitize_array,\n\u001b[0;32m    147\u001b[0m     sanitize_masked_array,\n\u001b[0;32m    148\u001b[0m )\n\u001b[1;32m--> 149\u001b[0m \u001b[38;5;28;01mfrom\u001b[39;00m \u001b[38;5;21;01mpandas\u001b[39;00m\u001b[38;5;21;01m.\u001b[39;00m\u001b[38;5;21;01mcore\u001b[39;00m\u001b[38;5;21;01m.\u001b[39;00m\u001b[38;5;21;01mgeneric\u001b[39;00m \u001b[38;5;28;01mimport\u001b[39;00m (\n\u001b[0;32m    150\u001b[0m     NDFrame,\n\u001b[0;32m    151\u001b[0m     make_doc,\n\u001b[0;32m    152\u001b[0m )\n\u001b[0;32m    153\u001b[0m \u001b[38;5;28;01mfrom\u001b[39;00m \u001b[38;5;21;01mpandas\u001b[39;00m\u001b[38;5;21;01m.\u001b[39;00m\u001b[38;5;21;01mcore\u001b[39;00m\u001b[38;5;21;01m.\u001b[39;00m\u001b[38;5;21;01mindexers\u001b[39;00m \u001b[38;5;28;01mimport\u001b[39;00m check_key_length\n\u001b[0;32m    154\u001b[0m \u001b[38;5;28;01mfrom\u001b[39;00m \u001b[38;5;21;01mpandas\u001b[39;00m\u001b[38;5;21;01m.\u001b[39;00m\u001b[38;5;21;01mcore\u001b[39;00m\u001b[38;5;21;01m.\u001b[39;00m\u001b[38;5;21;01mindexes\u001b[39;00m\u001b[38;5;21;01m.\u001b[39;00m\u001b[38;5;21;01mapi\u001b[39;00m \u001b[38;5;28;01mimport\u001b[39;00m (\n\u001b[0;32m    155\u001b[0m     DatetimeIndex,\n\u001b[0;32m    156\u001b[0m     Index,\n\u001b[1;32m   (...)\u001b[0m\n\u001b[0;32m    160\u001b[0m     ensure_index_from_sequences,\n\u001b[0;32m    161\u001b[0m )\n",
      "File \u001b[1;32mc:\\Users\\91875\\AppData\\Local\\Programs\\Python\\Python312\\Lib\\site-packages\\pandas\\core\\generic.py:152\u001b[0m\n\u001b[0;32m    143\u001b[0m \u001b[38;5;28;01mfrom\u001b[39;00m \u001b[38;5;21;01mpandas\u001b[39;00m\u001b[38;5;21;01m.\u001b[39;00m\u001b[38;5;21;01mcore\u001b[39;00m\u001b[38;5;21;01m.\u001b[39;00m\u001b[38;5;21;01mdtypes\u001b[39;00m\u001b[38;5;21;01m.\u001b[39;00m\u001b[38;5;21;01minference\u001b[39;00m \u001b[38;5;28;01mimport\u001b[39;00m (\n\u001b[0;32m    144\u001b[0m     is_hashable,\n\u001b[0;32m    145\u001b[0m     is_nested_list_like,\n\u001b[0;32m    146\u001b[0m )\n\u001b[0;32m    147\u001b[0m \u001b[38;5;28;01mfrom\u001b[39;00m \u001b[38;5;21;01mpandas\u001b[39;00m\u001b[38;5;21;01m.\u001b[39;00m\u001b[38;5;21;01mcore\u001b[39;00m\u001b[38;5;21;01m.\u001b[39;00m\u001b[38;5;21;01mdtypes\u001b[39;00m\u001b[38;5;21;01m.\u001b[39;00m\u001b[38;5;21;01mmissing\u001b[39;00m \u001b[38;5;28;01mimport\u001b[39;00m (\n\u001b[0;32m    148\u001b[0m     isna,\n\u001b[0;32m    149\u001b[0m     notna,\n\u001b[0;32m    150\u001b[0m )\n\u001b[1;32m--> 152\u001b[0m \u001b[38;5;28;01mfrom\u001b[39;00m \u001b[38;5;21;01mpandas\u001b[39;00m\u001b[38;5;21;01m.\u001b[39;00m\u001b[38;5;21;01mcore\u001b[39;00m \u001b[38;5;28;01mimport\u001b[39;00m (\n\u001b[0;32m    153\u001b[0m     algorithms \u001b[38;5;28;01mas\u001b[39;00m algos,\n\u001b[0;32m    154\u001b[0m     arraylike,\n\u001b[0;32m    155\u001b[0m     common,\n\u001b[0;32m    156\u001b[0m     indexing,\n\u001b[0;32m    157\u001b[0m     missing,\n\u001b[0;32m    158\u001b[0m     nanops,\n\u001b[0;32m    159\u001b[0m     sample,\n\u001b[0;32m    160\u001b[0m )\n\u001b[0;32m    161\u001b[0m \u001b[38;5;28;01mfrom\u001b[39;00m \u001b[38;5;21;01mpandas\u001b[39;00m\u001b[38;5;21;01m.\u001b[39;00m\u001b[38;5;21;01mcore\u001b[39;00m\u001b[38;5;21;01m.\u001b[39;00m\u001b[38;5;21;01marray_algos\u001b[39;00m\u001b[38;5;21;01m.\u001b[39;00m\u001b[38;5;21;01mreplace\u001b[39;00m \u001b[38;5;28;01mimport\u001b[39;00m should_use_regex\n\u001b[0;32m    162\u001b[0m \u001b[38;5;28;01mfrom\u001b[39;00m \u001b[38;5;21;01mpandas\u001b[39;00m\u001b[38;5;21;01m.\u001b[39;00m\u001b[38;5;21;01mcore\u001b[39;00m\u001b[38;5;21;01m.\u001b[39;00m\u001b[38;5;21;01marrays\u001b[39;00m \u001b[38;5;28;01mimport\u001b[39;00m ExtensionArray\n",
      "File \u001b[1;32mc:\\Users\\91875\\AppData\\Local\\Programs\\Python\\Python312\\Lib\\site-packages\\pandas\\core\\indexing.py:79\u001b[0m\n\u001b[0;32m     69\u001b[0m \u001b[38;5;28;01mfrom\u001b[39;00m \u001b[38;5;21;01mpandas\u001b[39;00m\u001b[38;5;21;01m.\u001b[39;00m\u001b[38;5;21;01mcore\u001b[39;00m\u001b[38;5;21;01m.\u001b[39;00m\u001b[38;5;21;01mconstruction\u001b[39;00m \u001b[38;5;28;01mimport\u001b[39;00m (\n\u001b[0;32m     70\u001b[0m     array \u001b[38;5;28;01mas\u001b[39;00m pd_array,\n\u001b[0;32m     71\u001b[0m     extract_array,\n\u001b[0;32m     72\u001b[0m )\n\u001b[0;32m     73\u001b[0m \u001b[38;5;28;01mfrom\u001b[39;00m \u001b[38;5;21;01mpandas\u001b[39;00m\u001b[38;5;21;01m.\u001b[39;00m\u001b[38;5;21;01mcore\u001b[39;00m\u001b[38;5;21;01m.\u001b[39;00m\u001b[38;5;21;01mindexers\u001b[39;00m \u001b[38;5;28;01mimport\u001b[39;00m (\n\u001b[0;32m     74\u001b[0m     check_array_indexer,\n\u001b[0;32m     75\u001b[0m     is_list_like_indexer,\n\u001b[0;32m     76\u001b[0m     is_scalar_indexer,\n\u001b[0;32m     77\u001b[0m     length_of_indexer,\n\u001b[0;32m     78\u001b[0m )\n\u001b[1;32m---> 79\u001b[0m \u001b[38;5;28;01mfrom\u001b[39;00m \u001b[38;5;21;01mpandas\u001b[39;00m\u001b[38;5;21;01m.\u001b[39;00m\u001b[38;5;21;01mcore\u001b[39;00m\u001b[38;5;21;01m.\u001b[39;00m\u001b[38;5;21;01mindexes\u001b[39;00m\u001b[38;5;21;01m.\u001b[39;00m\u001b[38;5;21;01mapi\u001b[39;00m \u001b[38;5;28;01mimport\u001b[39;00m (\n\u001b[0;32m     80\u001b[0m     Index,\n\u001b[0;32m     81\u001b[0m     MultiIndex,\n\u001b[0;32m     82\u001b[0m )\n\u001b[0;32m     84\u001b[0m \u001b[38;5;28;01mif\u001b[39;00m TYPE_CHECKING:\n\u001b[0;32m     85\u001b[0m     \u001b[38;5;28;01mfrom\u001b[39;00m \u001b[38;5;21;01mcollections\u001b[39;00m\u001b[38;5;21;01m.\u001b[39;00m\u001b[38;5;21;01mabc\u001b[39;00m \u001b[38;5;28;01mimport\u001b[39;00m (\n\u001b[0;32m     86\u001b[0m         Hashable,\n\u001b[0;32m     87\u001b[0m         Sequence,\n\u001b[0;32m     88\u001b[0m     )\n",
      "File \u001b[1;32mc:\\Users\\91875\\AppData\\Local\\Programs\\Python\\Python312\\Lib\\site-packages\\pandas\\core\\indexes\\api.py:20\u001b[0m\n\u001b[0;32m     17\u001b[0m \u001b[38;5;28;01mfrom\u001b[39;00m \u001b[38;5;21;01mpandas\u001b[39;00m\u001b[38;5;21;01m.\u001b[39;00m\u001b[38;5;21;01mcore\u001b[39;00m\u001b[38;5;21;01m.\u001b[39;00m\u001b[38;5;21;01mdtypes\u001b[39;00m\u001b[38;5;21;01m.\u001b[39;00m\u001b[38;5;21;01mcast\u001b[39;00m \u001b[38;5;28;01mimport\u001b[39;00m find_common_type\n\u001b[0;32m     19\u001b[0m \u001b[38;5;28;01mfrom\u001b[39;00m \u001b[38;5;21;01mpandas\u001b[39;00m\u001b[38;5;21;01m.\u001b[39;00m\u001b[38;5;21;01mcore\u001b[39;00m\u001b[38;5;21;01m.\u001b[39;00m\u001b[38;5;21;01malgorithms\u001b[39;00m \u001b[38;5;28;01mimport\u001b[39;00m safe_sort\n\u001b[1;32m---> 20\u001b[0m \u001b[38;5;28;01mfrom\u001b[39;00m \u001b[38;5;21;01mpandas\u001b[39;00m\u001b[38;5;21;01m.\u001b[39;00m\u001b[38;5;21;01mcore\u001b[39;00m\u001b[38;5;21;01m.\u001b[39;00m\u001b[38;5;21;01mindexes\u001b[39;00m\u001b[38;5;21;01m.\u001b[39;00m\u001b[38;5;21;01mbase\u001b[39;00m \u001b[38;5;28;01mimport\u001b[39;00m (\n\u001b[0;32m     21\u001b[0m     Index,\n\u001b[0;32m     22\u001b[0m     _new_Index,\n\u001b[0;32m     23\u001b[0m     ensure_index,\n\u001b[0;32m     24\u001b[0m     ensure_index_from_sequences,\n\u001b[0;32m     25\u001b[0m     get_unanimous_names,\n\u001b[0;32m     26\u001b[0m )\n\u001b[0;32m     27\u001b[0m \u001b[38;5;28;01mfrom\u001b[39;00m \u001b[38;5;21;01mpandas\u001b[39;00m\u001b[38;5;21;01m.\u001b[39;00m\u001b[38;5;21;01mcore\u001b[39;00m\u001b[38;5;21;01m.\u001b[39;00m\u001b[38;5;21;01mindexes\u001b[39;00m\u001b[38;5;21;01m.\u001b[39;00m\u001b[38;5;21;01mcategory\u001b[39;00m \u001b[38;5;28;01mimport\u001b[39;00m CategoricalIndex\n\u001b[0;32m     28\u001b[0m \u001b[38;5;28;01mfrom\u001b[39;00m \u001b[38;5;21;01mpandas\u001b[39;00m\u001b[38;5;21;01m.\u001b[39;00m\u001b[38;5;21;01mcore\u001b[39;00m\u001b[38;5;21;01m.\u001b[39;00m\u001b[38;5;21;01mindexes\u001b[39;00m\u001b[38;5;21;01m.\u001b[39;00m\u001b[38;5;21;01mdatetimes\u001b[39;00m \u001b[38;5;28;01mimport\u001b[39;00m DatetimeIndex\n",
      "File \u001b[1;32mc:\\Users\\91875\\AppData\\Local\\Programs\\Python\\Python312\\Lib\\site-packages\\pandas\\core\\indexes\\base.py:29\u001b[0m\n\u001b[0;32m     21\u001b[0m \u001b[38;5;28;01mimport\u001b[39;00m \u001b[38;5;21;01mnumpy\u001b[39;00m \u001b[38;5;28;01mas\u001b[39;00m \u001b[38;5;21;01mnp\u001b[39;00m\n\u001b[0;32m     23\u001b[0m \u001b[38;5;28;01mfrom\u001b[39;00m \u001b[38;5;21;01mpandas\u001b[39;00m\u001b[38;5;21;01m.\u001b[39;00m\u001b[38;5;21;01m_config\u001b[39;00m \u001b[38;5;28;01mimport\u001b[39;00m (\n\u001b[0;32m     24\u001b[0m     get_option,\n\u001b[0;32m     25\u001b[0m     using_copy_on_write,\n\u001b[0;32m     26\u001b[0m     using_pyarrow_string_dtype,\n\u001b[0;32m     27\u001b[0m )\n\u001b[1;32m---> 29\u001b[0m \u001b[38;5;28;01mfrom\u001b[39;00m \u001b[38;5;21;01mpandas\u001b[39;00m\u001b[38;5;21;01m.\u001b[39;00m\u001b[38;5;21;01m_libs\u001b[39;00m \u001b[38;5;28;01mimport\u001b[39;00m (\n\u001b[0;32m     30\u001b[0m     NaT,\n\u001b[0;32m     31\u001b[0m     algos \u001b[38;5;28;01mas\u001b[39;00m libalgos,\n\u001b[0;32m     32\u001b[0m     index \u001b[38;5;28;01mas\u001b[39;00m libindex,\n\u001b[0;32m     33\u001b[0m     lib,\n\u001b[0;32m     34\u001b[0m     writers,\n\u001b[0;32m     35\u001b[0m )\n\u001b[0;32m     36\u001b[0m \u001b[38;5;28;01mfrom\u001b[39;00m \u001b[38;5;21;01mpandas\u001b[39;00m\u001b[38;5;21;01m.\u001b[39;00m\u001b[38;5;21;01m_libs\u001b[39;00m\u001b[38;5;21;01m.\u001b[39;00m\u001b[38;5;21;01minternals\u001b[39;00m \u001b[38;5;28;01mimport\u001b[39;00m BlockValuesRefs\n\u001b[0;32m     37\u001b[0m \u001b[38;5;28;01mimport\u001b[39;00m \u001b[38;5;21;01mpandas\u001b[39;00m\u001b[38;5;21;01m.\u001b[39;00m\u001b[38;5;21;01m_libs\u001b[39;00m\u001b[38;5;21;01m.\u001b[39;00m\u001b[38;5;21;01mjoin\u001b[39;00m \u001b[38;5;28;01mas\u001b[39;00m \u001b[38;5;21;01mlibjoin\u001b[39;00m\n",
      "File \u001b[1;32m<frozen importlib._bootstrap>:645\u001b[0m, in \u001b[0;36mparent\u001b[1;34m(self)\u001b[0m\n",
      "\u001b[1;31mKeyboardInterrupt\u001b[0m: "
     ]
    }
   ],
   "source": [
    "import requests\n",
    "import pandas as pd\n",
    "from selenium import webdriver\n",
    "from selenium.webdriver.chrome.service import Service\n",
    "from selenium.webdriver.common.by import By\n",
    "from selenium.webdriver.support.ui import WebDriverWait\n",
    "from selenium.webdriver.support import expected_conditions as EC\n",
    "from scrapy import Selector\n",
    "import time"
   ]
  },
  {
   "cell_type": "markdown",
   "metadata": {},
   "source": [
    "<h3 style=\"color:#a93226\"><i><b>🎬 Getting Movie Links Using Selenium with User Agent</b></i></h3>\n"
   ]
  },
  {
   "cell_type": "code",
   "execution_count": null,
   "metadata": {},
   "outputs": [],
   "source": [
    "HEADERS = ({'User-Agent':'Mozilla/5.0 (Windows NT 10.0; Win64; x64) AppleWebKit/537.36 (KHTML, like Gecko) Chrome/131.0.0.0 Safari/537.36'})"
   ]
  },
  {
   "cell_type": "code",
   "execution_count": null,
   "metadata": {},
   "outputs": [
    {
     "name": "stdout",
     "output_type": "stream",
     "text": [
      "['/title/tt0111161/?ref_=chttp_t_1', '/title/tt0068646/?ref_=chttp_t_2', '/title/tt0468569/?ref_=chttp_t_3', '/title/tt0071562/?ref_=chttp_t_4', '/title/tt0050083/?ref_=chttp_t_5', '/title/tt0167260/?ref_=chttp_t_6', '/title/tt0108052/?ref_=chttp_t_7', '/title/tt0110912/?ref_=chttp_t_8', '/title/tt0120737/?ref_=chttp_t_9', '/title/tt0060196/?ref_=chttp_t_10']\n",
      "Total movies found: 250\n"
     ]
    }
   ],
   "source": [
    "# Start Chrome in headless mode\n",
    "options = webdriver.ChromeOptions()\n",
    "options.add_argument(\"--headless\")  # Run Chrome without GUI\n",
    "options.add_argument(\"--disable-blink-features=AutomationControlled\")  # Avoid bot detection\n",
    "options.add_argument(\"user-agent=Mozilla/5.0 (Windows NT 10.0; Win64; x64) AppleWebKit/537.36 (KHTML, like Gecko) Chrome/119.0.0.0 Safari/537.36\")\n",
    "\n",
    "# Start WebDriver\n",
    "service = Service()  # Auto-detects chromedriver\n",
    "driver = webdriver.Chrome(service=service, options=options)\n",
    "\n",
    "# Load IMDb Top 250 page\n",
    "url = \"https://www.imdb.com/chart/top/\"\n",
    "driver.get(url)\n",
    "\n",
    "# Wait for movies to load\n",
    "WebDriverWait(driver, 10).until(\n",
    "    EC.presence_of_element_located((By.CSS_SELECTOR, \"div[data-testid='chart-layout-main-column']\"))\n",
    ")\n",
    "\n",
    "# Scroll down to ensure all movies load\n",
    "driver.execute_script(\"window.scrollTo(0, document.body.scrollHeight);\")\n",
    "time.sleep(3)  # Wait for lazy-loaded content\n",
    "\n",
    "# Get fully rendered page source\n",
    "sel = Selector(text=driver.page_source)\n",
    "\n",
    "# Extract movie titles (updated IMDb selector)\n",
    "movies = sel.css(\"div[data-testid='chart-layout-main-column'] a.ipc-title-link-wrapper::attr(href)\").getall()\n",
    "\n",
    "# Close browser\n",
    "driver.quit()\n",
    "\n",
    "# Print first 10 movies\n",
    "print(movies[:10])\n",
    "\n",
    "# Print total count\n",
    "print(f\"Total movies found: {len(movies)}\")\n"
   ]
  },
  {
   "cell_type": "markdown",
   "metadata": {},
   "source": [
    "<h3 style=\"color:#a93226\"><i><b>🧪 Testing Using Single Link</b></i></h3>\n"
   ]
  },
  {
   "cell_type": "code",
   "execution_count": null,
   "metadata": {},
   "outputs": [],
   "source": [
    "test_1=\"https://www.imdb.com\"+movies[3]"
   ]
  },
  {
   "cell_type": "code",
   "execution_count": null,
   "metadata": {},
   "outputs": [],
   "source": [
    "response_3=requests.get(test_1,headers=HEADERS)\n",
    "select_3=Selector(text=response_3.text)"
   ]
  },
  {
   "cell_type": "code",
   "execution_count": null,
   "metadata": {},
   "outputs": [
    {
     "data": {
      "text/plain": [
       "['Epic', 'Gangster', 'Tragedy', 'Crime', 'Drama']"
      ]
     },
     "execution_count": 6,
     "metadata": {},
     "output_type": "execute_result"
    }
   ],
   "source": [
    "select_3.css(\"div.ipc-chip-list a span.ipc-chip__text::text\").getall()"
   ]
  },
  {
   "cell_type": "code",
   "execution_count": null,
   "metadata": {},
   "outputs": [
    {
     "data": {
      "text/plain": [
       "['Won 6 Oscars']"
      ]
     },
     "execution_count": 7,
     "metadata": {},
     "output_type": "execute_result"
    }
   ],
   "source": [
    "select_3.css(\"section:nth-child(3) > div > ul > li > a.ipc-metadata-list-item__label.ipc-metadata-list-item__label--link::text\").getall()"
   ]
  },
  {
   "cell_type": "code",
   "execution_count": null,
   "metadata": {},
   "outputs": [
    {
     "data": {
      "text/plain": [
       "['Francis Ford Coppola', 'Mario Puzo']"
      ]
     },
     "execution_count": 8,
     "metadata": {},
     "output_type": "execute_result"
    }
   ],
   "source": [
    "select_3.css(\" div.sc-c0933c3e-1.fQDAuW.ipc-page-grid__item.ipc-page-grid__item--span-2 > section.ipc-page-section.ipc-page-section--base.sc-cd7dc4b7-0.ycheS.title-cast.title-cast--movie.celwidget > ul > li:nth-child(2) > div > ul > li> a::text\").getall()"
   ]
  },
  {
   "cell_type": "code",
   "execution_count": null,
   "metadata": {},
   "outputs": [
    {
     "data": {
      "text/plain": [
       "'17 wins & 21 nominations total'"
      ]
     },
     "execution_count": 9,
     "metadata": {},
     "output_type": "execute_result"
    }
   ],
   "source": [
    "select_3.css(\" section:nth-child(3) > div > ul > li > div > ul > li > span::text\").get()"
   ]
  },
  {
   "cell_type": "code",
   "execution_count": null,
   "metadata": {},
   "outputs": [
    {
     "data": {
      "text/plain": [
       "['United States']"
      ]
     },
     "execution_count": 10,
     "metadata": {},
     "output_type": "execute_result"
    }
   ],
   "source": [
    "select_3.css(\"div.sc-f65f65be-0.dQVJPm > ul > li:nth-child(2) > div > ul > li > a::text\").getall()[:-1]"
   ]
  },
  {
   "cell_type": "markdown",
   "metadata": {},
   "source": [
    "<h3 style=\"color:#a93226\"><i><b>After checking using single link Creating List and getting all movies details</b></i></h3>"
   ]
  },
  {
   "cell_type": "code",
   "execution_count": null,
   "metadata": {},
   "outputs": [],
   "source": [
    "titles=[]\n",
    "release_years=[]\n",
    "motion_pic_rating=[]\n",
    "runtimes=[]\n",
    "runtime_motionpicrate_releaseyear=[]\n",
    "imdp_rating=[]\n",
    "directors=[]\n",
    "writers=[]\n",
    "genres=[]\n",
    "budgets=[]\n",
    "budgets_grossincomes=[]\n",
    "gross_us_and_canada=[]\n",
    "grosss_worldwide=[]\n",
    "Opening_weekend_US_Canada=[]\n",
    "languages=[]\n",
    "origins=[]\n",
    "production_co=[]\n",
    "# wins=[]\n",
    "nominations_and_wins=[]\n",
    "oscars=[]"
   ]
  },
  {
   "cell_type": "code",
   "execution_count": null,
   "metadata": {},
   "outputs": [],
   "source": [
    "\n",
    "for link in movies:\n",
    "    web=\"https://www.imdb.com\"+link\n",
    "    response_2=requests.get(web,headers=HEADERS)\n",
    "    select_2=Selector(text=response_2.text)\n",
    "    title=select_2.css(\".hero__primary-text::text\").get()\n",
    "    titles.append(title)\n",
    "    detail=select_2.css(\".ipc-inline-list.ipc-inline-list--show-dividers.sc-ec65ba05-2.joVhBE.baseAlt .ipc-inline-list__item ::text\").getall()\n",
    "    runtime_motionpicrate_releaseyear.append(detail)\n",
    "    rating=select_2.css(\".sc-d541859f-1.imUuxf::text\").get()\n",
    "    imdp_rating.append(rating)\n",
    "    director=select_2.css(\".ipc-metadata-list-item__list-content-item.ipc-metadata-list-item__list-content-item--link::text\").get()\n",
    "    directors.append(director)\n",
    "    writer=select_2.css(\" div.sc-c0933c3e-1.fQDAuW.ipc-page-grid__item.ipc-page-grid__item--span-2 > section.ipc-page-section.ipc-page-section--base.sc-cd7dc4b7-0.ycheS.title-cast.title-cast--movie.celwidget > ul > li:nth-child(2) > div > ul > li> a::text\").getall()\n",
    "    writers.append(writer)\n",
    "    language=select_2.css(\"li:nth-child(4) > div > ul > li > a::text\").getall()\n",
    "    languages.append(language)\n",
    "    oscar=select_2.css(\"section:nth-child(3) > div > ul > li > a.ipc-metadata-list-item__label.ipc-metadata-list-item__label--link::text\").getall()\n",
    "    oscars.append(oscar)\n",
    "    nomination_and_win=select_2.css(\" section:nth-child(3) > div > ul > li > div > ul > li > span::text\").get()\n",
    "    nominations_and_wins.append(nomination_and_win)\n",
    "    production=select_2.css(\"li:nth-child(7) > div > ul > li > a::text\").getall()\n",
    "    production_co.append(production)\n",
    "    origin=select_2.css(\"div.sc-f65f65be-0.dQVJPm > ul > li:nth-child(2) > div > ul > li > a::text\").getall()[:-1]\n",
    "    origins.append(origin)\n",
    "    bud = select_2.css(\".ipc-metadata-list__item.sc-db2ddaec-2.jyjTbZ .ipc-metadata-list-item__list-content-item::text\").getall() or [None]\n",
    "    budgets_grossincomes.append(bud)\n",
    "    genre=select_2.css(\"div.ipc-chip-list a span.ipc-chip__text::text\").getall()\n",
    "    genres.append(genre)"
   ]
  },
  {
   "cell_type": "markdown",
   "metadata": {},
   "source": [
    "<h3 style=\"color:#a93226\"><i><b>📊 Splitting and Arranging List Data</b></i></h3>"
   ]
  },
  {
   "cell_type": "code",
   "execution_count": null,
   "metadata": {},
   "outputs": [
    {
     "name": "stdout",
     "output_type": "stream",
     "text": [
      "None\n",
      "None\n",
      "None\n",
      "None\n"
     ]
    }
   ],
   "source": [
    "for details in runtime_motionpicrate_releaseyear:  \n",
    "    try:\n",
    "        release_years.append(details[0])\n",
    "        motion_pic_rating.append(details[1])\n",
    "        runtimes.append(details[2])\n",
    "    except IndexError:\n",
    "        print(None)  # Print None when index 2 is out of range\n"
   ]
  },
  {
   "cell_type": "code",
   "execution_count": null,
   "metadata": {},
   "outputs": [],
   "source": [
    "for budget_and_grosss in budgets_grossincomes:\n",
    "    budgets.append(budget_and_grosss[0] if len(budget_and_grosss) > 0 else None)\n",
    "    gross_us_and_canada.append(budget_and_grosss[1] if len(budget_and_grosss) > 1 else None)\n",
    "    Opening_weekend_US_Canada.append(budget_and_grosss[2] if len(budget_and_grosss) > 2 else None)\n",
    "    grosss_worldwide.append(budget_and_grosss[4] if len(budget_and_grosss) > 4 else None)\n"
   ]
  },
  {
   "cell_type": "code",
   "execution_count": null,
   "metadata": {},
   "outputs": [],
   "source": [
    "min_length = min(len(titles), len(directors),len(imdp_rating),\n",
    "                 len(budgets), len(gross_us_and_canada), len(grosss_worldwide), len(Opening_weekend_US_Canada),\n",
    "                 len(release_years),len(motion_pic_rating),len(runtimes),len(languages),len(origins),len(oscars),\n",
    "                 len(nominations_and_wins),len(writers),len(genres),len(production_co))\n",
    "\n",
    "# Truncate each list to the minimum length\n",
    "titles = titles[:min_length]\n",
    "directors = directors[:min_length]\n",
    "budgets = budgets[:min_length]\n",
    "gross_us_and_canada = gross_us_and_canada[:min_length]\n",
    "grosss_worldwide = grosss_worldwide[:min_length]\n",
    "Opening_weekend_US_Canada = Opening_weekend_US_Canada[:min_length]\n",
    "release_years=release_years[:min_length]\n",
    "motion_pic_rating=motion_pic_rating[:min_length]\n",
    "runtimes=runtimes[:min_length]\n",
    "writers=writers[:min_length]\n",
    "imdp_rating=imdp_rating[:min_length]\n",
    "genres=genres[:min_length]\n",
    "nominations_and_wins=nominations_and_wins[:min_length]\n",
    "oscars=oscars[:min_length]\n",
    "production_co=production_co[:min_length]\n",
    "origins=origins[:min_length]\n",
    "languages=languages[:min_length]\n"
   ]
  },
  {
   "cell_type": "markdown",
   "metadata": {},
   "source": [
    "<h3 style=\"color:#a93226\"><i><b>📑 Converting List Data to DataFrame and 💾 Saving as CSV</b></i></h3>\n"
   ]
  },
  {
   "cell_type": "code",
   "execution_count": null,
   "metadata": {},
   "outputs": [
    {
     "data": {
      "text/html": [
       "<div>\n",
       "<style scoped>\n",
       "    .dataframe tbody tr th:only-of-type {\n",
       "        vertical-align: middle;\n",
       "    }\n",
       "\n",
       "    .dataframe tbody tr th {\n",
       "        vertical-align: top;\n",
       "    }\n",
       "\n",
       "    .dataframe thead th {\n",
       "        text-align: right;\n",
       "    }\n",
       "</style>\n",
       "<table border=\"1\" class=\"dataframe\">\n",
       "  <thead>\n",
       "    <tr style=\"text-align: right;\">\n",
       "      <th></th>\n",
       "      <th>title</th>\n",
       "      <th>directors</th>\n",
       "      <th>Writers</th>\n",
       "      <th>Imdb_Ratings</th>\n",
       "      <th>Release_year</th>\n",
       "      <th>Runtime</th>\n",
       "      <th>Motion_picture_Rating</th>\n",
       "      <th>budgets</th>\n",
       "      <th>gross_us_and_canada</th>\n",
       "      <th>gross_worldwide</th>\n",
       "      <th>opening_weekend_gross_in_uscanada</th>\n",
       "      <th>Languages</th>\n",
       "      <th>Origin</th>\n",
       "      <th>Genre</th>\n",
       "      <th>Production_company</th>\n",
       "      <th>Nominations_and_wins</th>\n",
       "      <th>Oscar</th>\n",
       "    </tr>\n",
       "  </thead>\n",
       "  <tbody>\n",
       "    <tr>\n",
       "      <th>0</th>\n",
       "      <td>The Shawshank Redemption</td>\n",
       "      <td>Frank Darabont</td>\n",
       "      <td>[Stephen King, Frank Darabont]</td>\n",
       "      <td>9.3</td>\n",
       "      <td>1994</td>\n",
       "      <td>2h 22m</td>\n",
       "      <td>A</td>\n",
       "      <td>$25,000,000 (estimated)</td>\n",
       "      <td>$28,767,189</td>\n",
       "      <td>$29,332,133</td>\n",
       "      <td>$727,327</td>\n",
       "      <td>[English]</td>\n",
       "      <td>[United States]</td>\n",
       "      <td>[Epic, Period Drama, Prison Drama, Drama]</td>\n",
       "      <td>[Castle Rock Entertainment]</td>\n",
       "      <td>21 wins &amp; 42 nominations total</td>\n",
       "      <td>[Nominated for 7 Oscars]</td>\n",
       "    </tr>\n",
       "    <tr>\n",
       "      <th>1</th>\n",
       "      <td>The Godfather</td>\n",
       "      <td>Francis Ford Coppola</td>\n",
       "      <td>[Mario Puzo, Francis Ford Coppola]</td>\n",
       "      <td>9.2</td>\n",
       "      <td>1972</td>\n",
       "      <td>2h 55m</td>\n",
       "      <td>A</td>\n",
       "      <td>$6,000,000 (estimated)</td>\n",
       "      <td>$136,381,073</td>\n",
       "      <td>$250,342,198</td>\n",
       "      <td>$302,393</td>\n",
       "      <td>[English, Italian, Latin]</td>\n",
       "      <td>[United States]</td>\n",
       "      <td>[Epic, Gangster, Tragedy, Crime, Drama]</td>\n",
       "      <td>[Paramount Pictures, Albert S. Ruddy Productio...</td>\n",
       "      <td>31 wins &amp; 31 nominations total</td>\n",
       "      <td>[Won 3 Oscars]</td>\n",
       "    </tr>\n",
       "    <tr>\n",
       "      <th>2</th>\n",
       "      <td>The Dark Knight</td>\n",
       "      <td>Christopher Nolan</td>\n",
       "      <td>[Jonathan Nolan, Christopher Nolan, David S. G...</td>\n",
       "      <td>9.0</td>\n",
       "      <td>2008</td>\n",
       "      <td>2h 32m</td>\n",
       "      <td>UA</td>\n",
       "      <td>$185,000,000 (estimated)</td>\n",
       "      <td>$534,987,076</td>\n",
       "      <td>$1,009,057,329</td>\n",
       "      <td>$158,411,483</td>\n",
       "      <td>[English, Mandarin]</td>\n",
       "      <td>[United States, United Kingdom]</td>\n",
       "      <td>[Action Epic, Epic, Superhero, Action, Crime, ...</td>\n",
       "      <td>[Warner Bros., Legendary Entertainment, Syncopy]</td>\n",
       "      <td>164 wins &amp; 165 nominations total</td>\n",
       "      <td>[Won 2 Oscars]</td>\n",
       "    </tr>\n",
       "    <tr>\n",
       "      <th>3</th>\n",
       "      <td>The Godfather: Part II</td>\n",
       "      <td>Francis Ford Coppola</td>\n",
       "      <td>[Francis Ford Coppola, Mario Puzo]</td>\n",
       "      <td>9.0</td>\n",
       "      <td>1974</td>\n",
       "      <td>3h 22m</td>\n",
       "      <td>A</td>\n",
       "      <td>$13,000,000 (estimated)</td>\n",
       "      <td>$47,834,595</td>\n",
       "      <td>$47,964,222</td>\n",
       "      <td>$171,417</td>\n",
       "      <td>[English, Italian, Spanish, Latin, Sicilian]</td>\n",
       "      <td>[United States]</td>\n",
       "      <td>[Epic, Gangster, Tragedy, Crime, Drama]</td>\n",
       "      <td>[Paramount Pictures, The Coppola Company, Amer...</td>\n",
       "      <td>17 wins &amp; 21 nominations total</td>\n",
       "      <td>[Won 6 Oscars]</td>\n",
       "    </tr>\n",
       "    <tr>\n",
       "      <th>4</th>\n",
       "      <td>12 Angry Men</td>\n",
       "      <td>Sidney Lumet</td>\n",
       "      <td>[Reginald Rose]</td>\n",
       "      <td>9.0</td>\n",
       "      <td>1957</td>\n",
       "      <td>1h 36m</td>\n",
       "      <td>U</td>\n",
       "      <td>$350,000 (estimated)</td>\n",
       "      <td>$2,945</td>\n",
       "      <td>None</td>\n",
       "      <td>None</td>\n",
       "      <td>[]</td>\n",
       "      <td>[United States]</td>\n",
       "      <td>[Legal Drama, Psychological Drama, Crime, Drama]</td>\n",
       "      <td>[]</td>\n",
       "      <td>16 wins &amp; 12 nominations total</td>\n",
       "      <td>[Nominated for 3 Oscars]</td>\n",
       "    </tr>\n",
       "    <tr>\n",
       "      <th>...</th>\n",
       "      <td>...</td>\n",
       "      <td>...</td>\n",
       "      <td>...</td>\n",
       "      <td>...</td>\n",
       "      <td>...</td>\n",
       "      <td>...</td>\n",
       "      <td>...</td>\n",
       "      <td>...</td>\n",
       "      <td>...</td>\n",
       "      <td>...</td>\n",
       "      <td>...</td>\n",
       "      <td>...</td>\n",
       "      <td>...</td>\n",
       "      <td>...</td>\n",
       "      <td>...</td>\n",
       "      <td>...</td>\n",
       "      <td>...</td>\n",
       "    </tr>\n",
       "    <tr>\n",
       "      <th>241</th>\n",
       "      <td>Into the Wild</td>\n",
       "      <td>Sean Penn</td>\n",
       "      <td>[Sean Penn, Jon Krakauer]</td>\n",
       "      <td>8.1</td>\n",
       "      <td>2007</td>\n",
       "      <td>2h 34m</td>\n",
       "      <td>U</td>\n",
       "      <td>$15,000,000 (estimated)</td>\n",
       "      <td>$18,354,356</td>\n",
       "      <td>$56,676,733</td>\n",
       "      <td>$212,440</td>\n",
       "      <td>[English, Danish]</td>\n",
       "      <td>[United States]</td>\n",
       "      <td>[Coming-of-Age, Docudrama, Road Trip, Survival...</td>\n",
       "      <td>[Paramount Vantage, Art Linson Productions, In...</td>\n",
       "      <td>23 wins &amp; 106 nominations total</td>\n",
       "      <td>[Nominated for 2 Oscars]</td>\n",
       "    </tr>\n",
       "    <tr>\n",
       "      <th>242</th>\n",
       "      <td>The Grapes of Wrath</td>\n",
       "      <td>John Ford</td>\n",
       "      <td>[Nunnally Johnson, John Steinbeck]</td>\n",
       "      <td>8.1</td>\n",
       "      <td>1940</td>\n",
       "      <td>2h 26m</td>\n",
       "      <td>Approved</td>\n",
       "      <td>$800,000 (estimated)</td>\n",
       "      <td>$7,304</td>\n",
       "      <td>None</td>\n",
       "      <td>None</td>\n",
       "      <td>[]</td>\n",
       "      <td>[United States]</td>\n",
       "      <td>[Drama]</td>\n",
       "      <td>[]</td>\n",
       "      <td>10 wins &amp; 6 nominations total</td>\n",
       "      <td>[Won 2 Oscars]</td>\n",
       "    </tr>\n",
       "    <tr>\n",
       "      <th>243</th>\n",
       "      <td>Groundhog Day</td>\n",
       "      <td>Harold Ramis</td>\n",
       "      <td>[Danny Rubin, Harold Ramis]</td>\n",
       "      <td>8.0</td>\n",
       "      <td>1993</td>\n",
       "      <td>2h 10m</td>\n",
       "      <td>U</td>\n",
       "      <td>$14,600,000 (estimated)</td>\n",
       "      <td>$71,107,962</td>\n",
       "      <td>$71,108,778</td>\n",
       "      <td>$12,517,672</td>\n",
       "      <td>[]</td>\n",
       "      <td>[United States]</td>\n",
       "      <td>[Feel-Good Romance, High-Concept Comedy, Holid...</td>\n",
       "      <td>[]</td>\n",
       "      <td>7 wins &amp; 17 nominations total</td>\n",
       "      <td>[Won 1 BAFTA Award]</td>\n",
       "    </tr>\n",
       "    <tr>\n",
       "      <th>244</th>\n",
       "      <td>A Man Escaped</td>\n",
       "      <td>Robert Bresson</td>\n",
       "      <td>[André Devigny, Robert Bresson]</td>\n",
       "      <td>8.2</td>\n",
       "      <td>1956</td>\n",
       "      <td>2h 10m</td>\n",
       "      <td>Not Rated</td>\n",
       "      <td>None</td>\n",
       "      <td>None</td>\n",
       "      <td>None</td>\n",
       "      <td>None</td>\n",
       "      <td>[]</td>\n",
       "      <td>[France]</td>\n",
       "      <td>[Prison Drama, Drama, Thriller, War]</td>\n",
       "      <td>[]</td>\n",
       "      <td>4 wins &amp; 3 nominations total</td>\n",
       "      <td>[Nominated for 1 BAFTA Award]</td>\n",
       "    </tr>\n",
       "    <tr>\n",
       "      <th>245</th>\n",
       "      <td>Amores perros</td>\n",
       "      <td>Alejandro G. Iñárritu</td>\n",
       "      <td>[Guillermo Arriaga]</td>\n",
       "      <td>8.0</td>\n",
       "      <td>2000</td>\n",
       "      <td>2h 19m</td>\n",
       "      <td>A</td>\n",
       "      <td>$2,000,000 (estimated)</td>\n",
       "      <td>$5,408,467</td>\n",
       "      <td>$20,908,467</td>\n",
       "      <td>$61,047</td>\n",
       "      <td>[Spanish]</td>\n",
       "      <td>[Mexico]</td>\n",
       "      <td>[Tragedy, Drama, Thriller]</td>\n",
       "      <td>[Altavista Films, Zeta Film]</td>\n",
       "      <td>55 wins &amp; 24 nominations total</td>\n",
       "      <td>[Nominated for 1 Oscar]</td>\n",
       "    </tr>\n",
       "  </tbody>\n",
       "</table>\n",
       "<p>246 rows × 17 columns</p>\n",
       "</div>"
      ],
      "text/plain": [
       "                        title              directors  \\\n",
       "0    The Shawshank Redemption         Frank Darabont   \n",
       "1               The Godfather   Francis Ford Coppola   \n",
       "2             The Dark Knight      Christopher Nolan   \n",
       "3      The Godfather: Part II   Francis Ford Coppola   \n",
       "4                12 Angry Men           Sidney Lumet   \n",
       "..                        ...                    ...   \n",
       "241             Into the Wild              Sean Penn   \n",
       "242       The Grapes of Wrath              John Ford   \n",
       "243             Groundhog Day           Harold Ramis   \n",
       "244             A Man Escaped         Robert Bresson   \n",
       "245             Amores perros  Alejandro G. Iñárritu   \n",
       "\n",
       "                                               Writers Imdb_Ratings  \\\n",
       "0                       [Stephen King, Frank Darabont]          9.3   \n",
       "1                   [Mario Puzo, Francis Ford Coppola]          9.2   \n",
       "2    [Jonathan Nolan, Christopher Nolan, David S. G...          9.0   \n",
       "3                   [Francis Ford Coppola, Mario Puzo]          9.0   \n",
       "4                                      [Reginald Rose]          9.0   \n",
       "..                                                 ...          ...   \n",
       "241                          [Sean Penn, Jon Krakauer]          8.1   \n",
       "242                 [Nunnally Johnson, John Steinbeck]          8.1   \n",
       "243                        [Danny Rubin, Harold Ramis]          8.0   \n",
       "244                    [André Devigny, Robert Bresson]          8.2   \n",
       "245                                [Guillermo Arriaga]          8.0   \n",
       "\n",
       "    Release_year Runtime Motion_picture_Rating                   budgets  \\\n",
       "0           1994  2h 22m                     A   $25,000,000 (estimated)   \n",
       "1           1972  2h 55m                     A    $6,000,000 (estimated)   \n",
       "2           2008  2h 32m                    UA  $185,000,000 (estimated)   \n",
       "3           1974  3h 22m                     A   $13,000,000 (estimated)   \n",
       "4           1957  1h 36m                     U      $350,000 (estimated)   \n",
       "..           ...     ...                   ...                       ...   \n",
       "241         2007  2h 34m                     U   $15,000,000 (estimated)   \n",
       "242         1940  2h 26m              Approved      $800,000 (estimated)   \n",
       "243         1993  2h 10m                     U   $14,600,000 (estimated)   \n",
       "244         1956  2h 10m             Not Rated                      None   \n",
       "245         2000  2h 19m                     A    $2,000,000 (estimated)   \n",
       "\n",
       "    gross_us_and_canada gross_worldwide opening_weekend_gross_in_uscanada  \\\n",
       "0           $28,767,189     $29,332,133                          $727,327   \n",
       "1          $136,381,073    $250,342,198                          $302,393   \n",
       "2          $534,987,076  $1,009,057,329                      $158,411,483   \n",
       "3           $47,834,595     $47,964,222                          $171,417   \n",
       "4                $2,945            None                              None   \n",
       "..                  ...             ...                               ...   \n",
       "241         $18,354,356     $56,676,733                          $212,440   \n",
       "242              $7,304            None                              None   \n",
       "243         $71,107,962     $71,108,778                       $12,517,672   \n",
       "244                None            None                              None   \n",
       "245          $5,408,467     $20,908,467                           $61,047   \n",
       "\n",
       "                                        Languages  \\\n",
       "0                                       [English]   \n",
       "1                       [English, Italian, Latin]   \n",
       "2                             [English, Mandarin]   \n",
       "3    [English, Italian, Spanish, Latin, Sicilian]   \n",
       "4                                              []   \n",
       "..                                            ...   \n",
       "241                             [English, Danish]   \n",
       "242                                            []   \n",
       "243                                            []   \n",
       "244                                            []   \n",
       "245                                     [Spanish]   \n",
       "\n",
       "                              Origin  \\\n",
       "0                    [United States]   \n",
       "1                    [United States]   \n",
       "2    [United States, United Kingdom]   \n",
       "3                    [United States]   \n",
       "4                    [United States]   \n",
       "..                               ...   \n",
       "241                  [United States]   \n",
       "242                  [United States]   \n",
       "243                  [United States]   \n",
       "244                         [France]   \n",
       "245                         [Mexico]   \n",
       "\n",
       "                                                 Genre  \\\n",
       "0            [Epic, Period Drama, Prison Drama, Drama]   \n",
       "1              [Epic, Gangster, Tragedy, Crime, Drama]   \n",
       "2    [Action Epic, Epic, Superhero, Action, Crime, ...   \n",
       "3              [Epic, Gangster, Tragedy, Crime, Drama]   \n",
       "4     [Legal Drama, Psychological Drama, Crime, Drama]   \n",
       "..                                                 ...   \n",
       "241  [Coming-of-Age, Docudrama, Road Trip, Survival...   \n",
       "242                                            [Drama]   \n",
       "243  [Feel-Good Romance, High-Concept Comedy, Holid...   \n",
       "244               [Prison Drama, Drama, Thriller, War]   \n",
       "245                         [Tragedy, Drama, Thriller]   \n",
       "\n",
       "                                    Production_company  \\\n",
       "0                          [Castle Rock Entertainment]   \n",
       "1    [Paramount Pictures, Albert S. Ruddy Productio...   \n",
       "2     [Warner Bros., Legendary Entertainment, Syncopy]   \n",
       "3    [Paramount Pictures, The Coppola Company, Amer...   \n",
       "4                                                   []   \n",
       "..                                                 ...   \n",
       "241  [Paramount Vantage, Art Linson Productions, In...   \n",
       "242                                                 []   \n",
       "243                                                 []   \n",
       "244                                                 []   \n",
       "245                       [Altavista Films, Zeta Film]   \n",
       "\n",
       "                 Nominations_and_wins                          Oscar  \n",
       "0      21 wins & 42 nominations total       [Nominated for 7 Oscars]  \n",
       "1      31 wins & 31 nominations total                 [Won 3 Oscars]  \n",
       "2    164 wins & 165 nominations total                 [Won 2 Oscars]  \n",
       "3      17 wins & 21 nominations total                 [Won 6 Oscars]  \n",
       "4      16 wins & 12 nominations total       [Nominated for 3 Oscars]  \n",
       "..                                ...                            ...  \n",
       "241   23 wins & 106 nominations total       [Nominated for 2 Oscars]  \n",
       "242     10 wins & 6 nominations total                 [Won 2 Oscars]  \n",
       "243     7 wins & 17 nominations total            [Won 1 BAFTA Award]  \n",
       "244      4 wins & 3 nominations total  [Nominated for 1 BAFTA Award]  \n",
       "245    55 wins & 24 nominations total        [Nominated for 1 Oscar]  \n",
       "\n",
       "[246 rows x 17 columns]"
      ]
     },
     "execution_count": 16,
     "metadata": {},
     "output_type": "execute_result"
    }
   ],
   "source": [
    "df=pd.DataFrame({\"title\":titles,\"directors\":directors,\"Writers\":writers,\"Imdb_Ratings\":imdp_rating,\"Release_year\":release_years,\"Runtime\":runtimes,\"Motion_picture_Rating\":motion_pic_rating,\"budgets\":budgets,\"gross_us_and_canada\":gross_us_and_canada,\"gross_worldwide\":grosss_worldwide,\"opening_weekend_gross_in_uscanada\":Opening_weekend_US_Canada,\"Languages\":languages,\"Origin\":origins,\"Genre\":genres,\"Production_company\":production_co,\"Nominations_and_wins\":nominations_and_wins,\"Oscar\":oscars})\n",
    "df"
   ]
  },
  {
   "cell_type": "code",
   "execution_count": null,
   "metadata": {},
   "outputs": [],
   "source": []
  },
  {
   "cell_type": "code",
   "execution_count": 17,
   "metadata": {},
   "outputs": [],
   "source": [
    "df.to_csv(\"../data/raw/imdb_raw_data.csv\")"
   ]
  }
 ],
 "metadata": {
  "kernelspec": {
   "display_name": "Python 3",
   "language": "python",
   "name": "python3"
  },
  "language_info": {
   "codemirror_mode": {
    "name": "ipython",
    "version": 3
   },
   "file_extension": ".py",
   "mimetype": "text/x-python",
   "name": "python",
   "nbconvert_exporter": "python",
   "pygments_lexer": "ipython3",
   "version": "3.12.1"
  }
 },
 "nbformat": 4,
 "nbformat_minor": 2
}
